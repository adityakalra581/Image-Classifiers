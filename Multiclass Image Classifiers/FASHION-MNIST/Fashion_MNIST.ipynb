{
  "nbformat": 4,
  "nbformat_minor": 0,
  "metadata": {
    "colab": {
      "name": "Fashion_MNIST.ipynb",
      "provenance": [],
      "collapsed_sections": [],
      "authorship_tag": "ABX9TyPJkDZWpW02ONlFZM/i51G9",
      "include_colab_link": true
    },
    "kernelspec": {
      "name": "python3",
      "display_name": "Python 3"
    }
  },
  "cells": [
    {
      "cell_type": "markdown",
      "metadata": {
        "id": "view-in-github",
        "colab_type": "text"
      },
      "source": [
        "<a href=\"https://colab.research.google.com/github/adityakalra581/Data-Science/blob/master/Deep%20Learning/FASHION-MNIST/Fashion_MNIST.ipynb\" target=\"_parent\"><img src=\"https://colab.research.google.com/assets/colab-badge.svg\" alt=\"Open In Colab\"/></a>"
      ]
    },
    {
      "cell_type": "code",
      "metadata": {
        "id": "Udk7OfibvYBx",
        "colab_type": "code",
        "colab": {
          "base_uri": "https://localhost:8080/",
          "height": 63
        },
        "outputId": "ae848fae-0e70-4206-d7c4-78b9617f8307"
      },
      "source": [
        "import tensorflow as tf\n",
        "import tensorflow.keras as keras\n",
        "import numpy as np\n",
        "import pandas as pd\n",
        "import matplotlib.pyplot as plt"
      ],
      "execution_count": 1,
      "outputs": [
        {
          "output_type": "display_data",
          "data": {
            "text/html": [
              "<p style=\"color: red;\">\n",
              "The default version of TensorFlow in Colab will soon switch to TensorFlow 2.x.<br>\n",
              "We recommend you <a href=\"https://www.tensorflow.org/guide/migrate\" target=\"_blank\">upgrade</a> now \n",
              "or ensure your notebook will continue to use TensorFlow 1.x via the <code>%tensorflow_version 1.x</code> magic:\n",
              "<a href=\"https://colab.research.google.com/notebooks/tensorflow_version.ipynb\" target=\"_blank\">more info</a>.</p>\n"
            ],
            "text/plain": [
              "<IPython.core.display.HTML object>"
            ]
          },
          "metadata": {
            "tags": []
          }
        }
      ]
    },
    {
      "cell_type": "code",
      "metadata": {
        "id": "w2vKdEpHvo88",
        "colab_type": "code",
        "colab": {}
      },
      "source": [
        "fashion_mnist = keras.datasets.fashion_mnist"
      ],
      "execution_count": 0,
      "outputs": []
    },
    {
      "cell_type": "code",
      "metadata": {
        "id": "BFB2NiDjwMl9",
        "colab_type": "code",
        "outputId": "685448ce-2d83-4ceb-a412-f49b5b353a71",
        "colab": {
          "base_uri": "https://localhost:8080/",
          "height": 158
        }
      },
      "source": [
        "(train_x,train_y),(test_x,test_y) = fashion_mnist.load_data() "
      ],
      "execution_count": 3,
      "outputs": [
        {
          "output_type": "stream",
          "text": [
            "Downloading data from https://storage.googleapis.com/tensorflow/tf-keras-datasets/train-labels-idx1-ubyte.gz\n",
            "32768/29515 [=================================] - 0s 0us/step\n",
            "Downloading data from https://storage.googleapis.com/tensorflow/tf-keras-datasets/train-images-idx3-ubyte.gz\n",
            "26427392/26421880 [==============================] - 0s 0us/step\n",
            "Downloading data from https://storage.googleapis.com/tensorflow/tf-keras-datasets/t10k-labels-idx1-ubyte.gz\n",
            "8192/5148 [===============================================] - 0s 0us/step\n",
            "Downloading data from https://storage.googleapis.com/tensorflow/tf-keras-datasets/t10k-images-idx3-ubyte.gz\n",
            "4423680/4422102 [==============================] - 0s 0us/step\n"
          ],
          "name": "stdout"
        }
      ]
    },
    {
      "cell_type": "code",
      "metadata": {
        "id": "IH25jdBdzX0s",
        "colab_type": "code",
        "outputId": "e68b81e6-ac88-4eda-f217-fc05106209b1",
        "colab": {
          "base_uri": "https://localhost:8080/",
          "height": 87
        }
      },
      "source": [
        "print(train_x.shape)\n",
        "print(train_y.shape)\n",
        "print(test_x.shape)\n",
        "print(test_y.shape)"
      ],
      "execution_count": 4,
      "outputs": [
        {
          "output_type": "stream",
          "text": [
            "(60000, 28, 28)\n",
            "(60000,)\n",
            "(10000, 28, 28)\n",
            "(10000,)\n"
          ],
          "name": "stdout"
        }
      ]
    },
    {
      "cell_type": "code",
      "metadata": {
        "id": "SxpXzWckwdt5",
        "colab_type": "code",
        "outputId": "328e05f2-438e-470f-9a1d-b07cc2fc40ce",
        "colab": {
          "base_uri": "https://localhost:8080/",
          "height": 1000
        }
      },
      "source": [
        "train_x[0]"
      ],
      "execution_count": 5,
      "outputs": [
        {
          "output_type": "execute_result",
          "data": {
            "text/plain": [
              "array([[  0,   0,   0,   0,   0,   0,   0,   0,   0,   0,   0,   0,   0,\n",
              "          0,   0,   0,   0,   0,   0,   0,   0,   0,   0,   0,   0,   0,\n",
              "          0,   0],\n",
              "       [  0,   0,   0,   0,   0,   0,   0,   0,   0,   0,   0,   0,   0,\n",
              "          0,   0,   0,   0,   0,   0,   0,   0,   0,   0,   0,   0,   0,\n",
              "          0,   0],\n",
              "       [  0,   0,   0,   0,   0,   0,   0,   0,   0,   0,   0,   0,   0,\n",
              "          0,   0,   0,   0,   0,   0,   0,   0,   0,   0,   0,   0,   0,\n",
              "          0,   0],\n",
              "       [  0,   0,   0,   0,   0,   0,   0,   0,   0,   0,   0,   0,   1,\n",
              "          0,   0,  13,  73,   0,   0,   1,   4,   0,   0,   0,   0,   1,\n",
              "          1,   0],\n",
              "       [  0,   0,   0,   0,   0,   0,   0,   0,   0,   0,   0,   0,   3,\n",
              "          0,  36, 136, 127,  62,  54,   0,   0,   0,   1,   3,   4,   0,\n",
              "          0,   3],\n",
              "       [  0,   0,   0,   0,   0,   0,   0,   0,   0,   0,   0,   0,   6,\n",
              "          0, 102, 204, 176, 134, 144, 123,  23,   0,   0,   0,   0,  12,\n",
              "         10,   0],\n",
              "       [  0,   0,   0,   0,   0,   0,   0,   0,   0,   0,   0,   0,   0,\n",
              "          0, 155, 236, 207, 178, 107, 156, 161, 109,  64,  23,  77, 130,\n",
              "         72,  15],\n",
              "       [  0,   0,   0,   0,   0,   0,   0,   0,   0,   0,   0,   1,   0,\n",
              "         69, 207, 223, 218, 216, 216, 163, 127, 121, 122, 146, 141,  88,\n",
              "        172,  66],\n",
              "       [  0,   0,   0,   0,   0,   0,   0,   0,   0,   1,   1,   1,   0,\n",
              "        200, 232, 232, 233, 229, 223, 223, 215, 213, 164, 127, 123, 196,\n",
              "        229,   0],\n",
              "       [  0,   0,   0,   0,   0,   0,   0,   0,   0,   0,   0,   0,   0,\n",
              "        183, 225, 216, 223, 228, 235, 227, 224, 222, 224, 221, 223, 245,\n",
              "        173,   0],\n",
              "       [  0,   0,   0,   0,   0,   0,   0,   0,   0,   0,   0,   0,   0,\n",
              "        193, 228, 218, 213, 198, 180, 212, 210, 211, 213, 223, 220, 243,\n",
              "        202,   0],\n",
              "       [  0,   0,   0,   0,   0,   0,   0,   0,   0,   1,   3,   0,  12,\n",
              "        219, 220, 212, 218, 192, 169, 227, 208, 218, 224, 212, 226, 197,\n",
              "        209,  52],\n",
              "       [  0,   0,   0,   0,   0,   0,   0,   0,   0,   0,   6,   0,  99,\n",
              "        244, 222, 220, 218, 203, 198, 221, 215, 213, 222, 220, 245, 119,\n",
              "        167,  56],\n",
              "       [  0,   0,   0,   0,   0,   0,   0,   0,   0,   4,   0,   0,  55,\n",
              "        236, 228, 230, 228, 240, 232, 213, 218, 223, 234, 217, 217, 209,\n",
              "         92,   0],\n",
              "       [  0,   0,   1,   4,   6,   7,   2,   0,   0,   0,   0,   0, 237,\n",
              "        226, 217, 223, 222, 219, 222, 221, 216, 223, 229, 215, 218, 255,\n",
              "         77,   0],\n",
              "       [  0,   3,   0,   0,   0,   0,   0,   0,   0,  62, 145, 204, 228,\n",
              "        207, 213, 221, 218, 208, 211, 218, 224, 223, 219, 215, 224, 244,\n",
              "        159,   0],\n",
              "       [  0,   0,   0,   0,  18,  44,  82, 107, 189, 228, 220, 222, 217,\n",
              "        226, 200, 205, 211, 230, 224, 234, 176, 188, 250, 248, 233, 238,\n",
              "        215,   0],\n",
              "       [  0,  57, 187, 208, 224, 221, 224, 208, 204, 214, 208, 209, 200,\n",
              "        159, 245, 193, 206, 223, 255, 255, 221, 234, 221, 211, 220, 232,\n",
              "        246,   0],\n",
              "       [  3, 202, 228, 224, 221, 211, 211, 214, 205, 205, 205, 220, 240,\n",
              "         80, 150, 255, 229, 221, 188, 154, 191, 210, 204, 209, 222, 228,\n",
              "        225,   0],\n",
              "       [ 98, 233, 198, 210, 222, 229, 229, 234, 249, 220, 194, 215, 217,\n",
              "        241,  65,  73, 106, 117, 168, 219, 221, 215, 217, 223, 223, 224,\n",
              "        229,  29],\n",
              "       [ 75, 204, 212, 204, 193, 205, 211, 225, 216, 185, 197, 206, 198,\n",
              "        213, 240, 195, 227, 245, 239, 223, 218, 212, 209, 222, 220, 221,\n",
              "        230,  67],\n",
              "       [ 48, 203, 183, 194, 213, 197, 185, 190, 194, 192, 202, 214, 219,\n",
              "        221, 220, 236, 225, 216, 199, 206, 186, 181, 177, 172, 181, 205,\n",
              "        206, 115],\n",
              "       [  0, 122, 219, 193, 179, 171, 183, 196, 204, 210, 213, 207, 211,\n",
              "        210, 200, 196, 194, 191, 195, 191, 198, 192, 176, 156, 167, 177,\n",
              "        210,  92],\n",
              "       [  0,   0,  74, 189, 212, 191, 175, 172, 175, 181, 185, 188, 189,\n",
              "        188, 193, 198, 204, 209, 210, 210, 211, 188, 188, 194, 192, 216,\n",
              "        170,   0],\n",
              "       [  2,   0,   0,   0,  66, 200, 222, 237, 239, 242, 246, 243, 244,\n",
              "        221, 220, 193, 191, 179, 182, 182, 181, 176, 166, 168,  99,  58,\n",
              "          0,   0],\n",
              "       [  0,   0,   0,   0,   0,   0,   0,  40,  61,  44,  72,  41,  35,\n",
              "          0,   0,   0,   0,   0,   0,   0,   0,   0,   0,   0,   0,   0,\n",
              "          0,   0],\n",
              "       [  0,   0,   0,   0,   0,   0,   0,   0,   0,   0,   0,   0,   0,\n",
              "          0,   0,   0,   0,   0,   0,   0,   0,   0,   0,   0,   0,   0,\n",
              "          0,   0],\n",
              "       [  0,   0,   0,   0,   0,   0,   0,   0,   0,   0,   0,   0,   0,\n",
              "          0,   0,   0,   0,   0,   0,   0,   0,   0,   0,   0,   0,   0,\n",
              "          0,   0]], dtype=uint8)"
            ]
          },
          "metadata": {
            "tags": []
          },
          "execution_count": 5
        }
      ]
    },
    {
      "cell_type": "code",
      "metadata": {
        "id": "NkJDNnnhwp2H",
        "colab_type": "code",
        "outputId": "22b292c8-4213-45bd-e725-4fe3d4373197",
        "colab": {
          "base_uri": "https://localhost:8080/",
          "height": 264
        }
      },
      "source": [
        "plt.imshow(train_x[0])\n",
        "plt.show()"
      ],
      "execution_count": 6,
      "outputs": [
        {
          "output_type": "display_data",
          "data": {
            "image/png": "[encoded data removed]",
            "text/plain": [
              "<Figure size 432x288 with 1 Axes>"
            ]
          },
          "metadata": {
            "tags": []
          }
        }
      ]
    },
    {
      "cell_type": "code",
      "metadata": {
        "id": "fCcZyUstxCfN",
        "colab_type": "code",
        "outputId": "742ed80d-7167-4e92-a25c-4d54e83bcaa6",
        "colab": {
          "base_uri": "https://localhost:8080/",
          "height": 282
        }
      },
      "source": [
        "plt.imshow(train_x[0],cmap = plt.cm.binary)\n",
        "plt.show()\n",
        "print(train_y[0])"
      ],
      "execution_count": 7,
      "outputs": [
        {
          "output_type": "display_data",
          "data": {
            "image/png": "[encoded data removed]",
            "text/plain": [
              "<Figure size 432x288 with 1 Axes>"
            ]
          },
          "metadata": {
            "tags": []
          }
        },
        {
          "output_type": "stream",
          "text": [
            "9\n"
          ],
          "name": "stdout"
        }
      ]
    },
    {
      "cell_type": "code",
      "metadata": {
        "id": "OeTs09l_xVMg",
        "colab_type": "code",
        "colab": {}
      },
      "source": [
        "#### Yeah!! it is a shoe...... \n",
        "## And clearly the target variable for shoes is 9>>>>>>"
      ],
      "execution_count": 0,
      "outputs": []
    },
    {
      "cell_type": "code",
      "metadata": {
        "id": "8QZe0zJhxZdI",
        "colab_type": "code",
        "colab": {
          "base_uri": "https://localhost:8080/",
          "height": 90
        },
        "outputId": "845a3be6-e72d-4c8e-fc75-2cd9e49f720a"
      },
      "source": [
        "## Now let's build a model to identify all the shoes in the entire dataset..\n",
        "\n",
        "model = keras.Sequential([keras.layers.Flatten(input_shape=(28,28)),\n",
        "    keras.layers.Dense(units = 128,activation=tf.nn.relu),\n",
        "    keras.layers.Dense(units = 10,activation=tf.nn.softmax)\n",
        "            ])\n",
        "        \n",
        "## Let's compile the model:\n",
        "\n",
        "model.compile(optimizer= 'adam',\n",
        "              loss= 'sparse_categorical_crossentropy',\n",
        "              metrics=['accuracy'])\n",
        "\n"
      ],
      "execution_count": 9,
      "outputs": [
        {
          "output_type": "stream",
          "text": [
            "WARNING:tensorflow:From /usr/local/lib/python3.6/dist-packages/tensorflow_core/python/ops/resource_variable_ops.py:1630: calling BaseResourceVariable.__init__ (from tensorflow.python.ops.resource_variable_ops) with constraint is deprecated and will be removed in a future version.\n",
            "Instructions for updating:\n",
            "If using Keras pass *_constraint arguments to layers.\n"
          ],
          "name": "stdout"
        }
      ]
    },
    {
      "cell_type": "code",
      "metadata": {
        "id": "kBR3ke8A1OUg",
        "colab_type": "code",
        "outputId": "ff8f5f1d-e378-46d8-ad69-624936f825e9",
        "colab": {
          "base_uri": "https://localhost:8080/",
          "height": 407
        }
      },
      "source": [
        "model.fit(train_x,train_y,epochs=10)"
      ],
      "execution_count": 10,
      "outputs": [
        {
          "output_type": "stream",
          "text": [
            "Train on 60000 samples\n",
            "Epoch 1/10\n",
            "60000/60000 [==============================] - 5s 76us/sample - loss: 3.2534 - acc: 0.6897\n",
            "Epoch 2/10\n",
            "60000/60000 [==============================] - 4s 67us/sample - loss: 0.6978 - acc: 0.7560\n",
            "Epoch 3/10\n",
            "60000/60000 [==============================] - 4s 67us/sample - loss: 0.6146 - acc: 0.7810\n",
            "Epoch 4/10\n",
            "60000/60000 [==============================] - 4s 66us/sample - loss: 0.5697 - acc: 0.7997\n",
            "Epoch 5/10\n",
            "60000/60000 [==============================] - 4s 66us/sample - loss: 0.5479 - acc: 0.8093\n",
            "Epoch 6/10\n",
            "60000/60000 [==============================] - 4s 67us/sample - loss: 0.5328 - acc: 0.8169\n",
            "Epoch 7/10\n",
            "60000/60000 [==============================] - 4s 67us/sample - loss: 0.5268 - acc: 0.8202\n",
            "Epoch 8/10\n",
            "60000/60000 [==============================] - 4s 72us/sample - loss: 0.5199 - acc: 0.8228\n",
            "Epoch 9/10\n",
            "60000/60000 [==============================] - 4s 72us/sample - loss: 0.5073 - acc: 0.8256\n",
            "Epoch 10/10\n",
            "60000/60000 [==============================] - 4s 69us/sample - loss: 0.5031 - acc: 0.8270\n"
          ],
          "name": "stdout"
        },
        {
          "output_type": "execute_result",
          "data": {
            "text/plain": [
              "<tensorflow.python.keras.callbacks.History at 0x7f8b2ec68550>"
            ]
          },
          "metadata": {
            "tags": []
          },
          "execution_count": 10
        }
      ]
    },
    {
      "cell_type": "code",
      "metadata": {
        "id": "5bR95L6o1-vK",
        "colab_type": "code",
        "outputId": "a64baf8a-83ce-4cf7-a93a-0464bac21ff5",
        "colab": {
          "base_uri": "https://localhost:8080/",
          "height": 70
        }
      },
      "source": [
        "test_loss,test_accuracy = model.evaluate(test_x,test_y)\n",
        "print(test_loss)\n",
        "print(test_accuracy)\n"
      ],
      "execution_count": 11,
      "outputs": [
        {
          "output_type": "stream",
          "text": [
            "10000/10000 [==============================] - 0s 31us/sample - loss: 0.6055 - acc: 0.7900\n",
            "0.6054569630622864\n",
            "0.79\n"
          ],
          "name": "stdout"
        }
      ]
    },
    {
      "cell_type": "code",
      "metadata": {
        "id": "RaLm9oqI2qWM",
        "colab_type": "code",
        "outputId": "b21d4949-9ed2-425d-b129-43168d9d0498",
        "colab": {
          "base_uri": "https://localhost:8080/",
          "height": 282
        }
      },
      "source": [
        "### Let's do the predictions:\n",
        "\n",
        "predictions=model.predict(test_x)\n",
        "plt.imshow(test_x[0],cmap = plt.cm.binary)\n",
        "plt.show()\n",
        "print(np.argmax(predictions[0]))\n",
        "\n",
        "\n"
      ],
      "execution_count": 12,
      "outputs": [
        {
          "output_type": "display_data",
          "data": {
            "image/png": "[encoded data removed]",
            "text/plain": [
              "<Figure size 432x288 with 1 Axes>"
            ]
          },
          "metadata": {
            "tags": []
          }
        },
        {
          "output_type": "stream",
          "text": [
            "9\n"
          ],
          "name": "stdout"
        }
      ]
    },
    {
      "cell_type": "code",
      "metadata": {
        "id": "BAdhYVVv4dgo",
        "colab_type": "code",
        "colab": {}
      },
      "source": [
        "######## ALGORITHM:"
      ],
      "execution_count": 0,
      "outputs": []
    },
    {
      "cell_type": "markdown",
      "metadata": {
        "id": "LNw_T5B65i5e",
        "colab_type": "text"
      },
      "source": [
        "1. Load Dataset.\n",
        "2. Check the shapes.\n",
        "3. Build the Model:\n",
        "      1. model name(Sequential)\n",
        "      2. inside that model Flatten the dataset.\n",
        "      3. Build the layers(2 hidden in this case)\n",
        "4. Compile the model [ Optimizer, loss, metrics]\n",
        "5. Fit the model on training data\n",
        "6. Calculate accuracy and loss on test data.\n",
        "6. Make predictions of test data.\n"
      ]
    },
    {
      "cell_type": "markdown",
      "metadata": {
        "id": "T8MEr7XC7yu6",
        "colab_type": "text"
      },
      "source": [
        "EVERY PIECE OF CODE IN ONE TAB:"
      ]
    },
    {
      "cell_type": "code",
      "metadata": {
        "id": "opNxoI4k6WvK",
        "colab_type": "code",
        "colab": {}
      },
      "source": [
        "# import tensorflow as tf\n",
        "# import tensorflow.keras as keras\n",
        "# import numpy as np\n",
        "# import pandas as pd\n",
        "# import matplotlib.pyplot as plt\n",
        "\n",
        "# fashion_mnist = keras.datasets.fashion_mnist\n",
        "# (train_x,train_y),(test_x,test_y) = fashion_mnist.load_data() \n",
        "\n",
        "# ## Now let's build a model to identify all the shoes in the entire dataset..\n",
        "\n",
        "# model = keras.Sequential([keras.layers.Flatten(input_shape=(28,28)),\n",
        "#     keras.layers.Dense(units = 128,activation=tf.nn.relu),\n",
        "#     keras.layers.Dense(units = 10,activation=tf.nn.softmax)\n",
        "#             ])\n",
        "\n",
        "# ## Here input_shape = [28,28] as because the images are 28 x 28 pixels.\n",
        "# ## units means neurons in a single layer.\n",
        "# ## 1st hidden layer contains 128 neurons and second layer has 10.\n",
        "# ## Activation function used Relu: Rectified linear Unit and Softmax\n",
        "\n",
        "# ## Let's compile the model:\n",
        "\n",
        "# model.compile(optimizer= 'adam',\n",
        "#               loss= 'sparse_categorical_crossentropy',\n",
        "#               metrics=['accuracy'])\n",
        "# model.fit(train_x,train_y,epochs=10)\n",
        "# test_loss,test_accuracy = model.evaluate(test_x,test_y)\n",
        "# print(test_loss)\n",
        "# print(test_accuracy)\n",
        "# ### Let's do the predictions:\n",
        "\n",
        "# predictions=model.predict(test_x)\n",
        "# plt.imshow(test_x[0],cmap = plt.cm.binary)\n",
        "# plt.show()\n",
        "# print(np.argmax(predictions[0]))\n",
        "\n",
        "\n",
        "\n"
      ],
      "execution_count": 0,
      "outputs": []
    },
    {
      "cell_type": "markdown",
      "metadata": {
        "id": "bGatb6fhB4sv",
        "colab_type": "text"
      },
      "source": [
        "There are certain issues with this model:\n",
        "\n",
        "1. This model will only recognize Ankle shoes,Not sneakers or slippers or any other kind of shoes.\n",
        "\n",
        "2. Low Accuracy.\n",
        "\n",
        "3. The size restriction: that is the algorithm will work only in the images of 28x28x1 (28 by 28 grayscale image)"
      ]
    },
    {
      "cell_type": "code",
      "metadata": {
        "id": "PQg5ivXzKRFa",
        "colab_type": "code",
        "colab": {}
      },
      "source": [
        "## Need to configure the dataset:\n",
        "import tensorflow as tf\n",
        "mnist = tf.keras.datasets.fashion_mnist\n",
        "(train_x, training_y), (test_x, test_y) = mnist.load_data()\n",
        "train_x=train_x.reshape(60000, 28, 28, 1)\n",
        "train_x = train_x/255.0\n",
        "test_x = test_x.reshape(10000, 28, 28, 1)\n",
        "test_x = test_x/255.0"
      ],
      "execution_count": 0,
      "outputs": []
    },
    {
      "cell_type": "code",
      "metadata": {
        "id": "9hTXU1mqCu4e",
        "colab_type": "code",
        "colab": {
          "base_uri": "https://localhost:8080/",
          "height": 158
        },
        "outputId": "459b7ffd-49de-4ef3-aa42-2e93737b3ef0"
      },
      "source": [
        "## Let's build a CNN model for atleast eradicating first two Issues.\n",
        "\n",
        "\n",
        "cnn_mod = tf.keras.models.Sequential([\n",
        "            tf.keras.layers.Conv2D(64,(3,3),activation = 'relu',\n",
        "                            input_shape= (28,28,1)),\n",
        "            tf.keras.layers.MaxPooling2D(2,2),\n",
        "            (tf.keras.layers.Flatten()),\n",
        "            (tf.keras.layers.Dense(128, activation=tf.nn.relu)),\n",
        "            (tf.keras.layers.Dense(128, activation=tf.nn.relu)),\n",
        "            (tf.keras.layers.Dense(10, activation=tf.nn.softmax))\n",
        "\n",
        "])\n",
        "\n",
        "cnn_mod.compile(optimizer='adam',\n",
        "              loss='sparse_categorical_crossentropy',\n",
        "              metrics=['accuracy'])\n",
        "\n",
        "\n",
        "cnn_mod.fit(train_x,train_y, epochs=3)\n",
        "# val_loss, val_acc = cnn_mod.evaluate(test_x, test_y)\n",
        "# print(val_loss)\n",
        "# print(val_acc)\n",
        "\n"
      ],
      "execution_count": 16,
      "outputs": [
        {
          "output_type": "stream",
          "text": [
            "Train on 60000 samples\n",
            "Epoch 1/3\n",
            "60000/60000 [==============================] - 58s 964us/sample - loss: 0.3848 - acc: 0.8612\n",
            "Epoch 2/3\n",
            "60000/60000 [==============================] - 57s 954us/sample - loss: 0.2554 - acc: 0.9067\n",
            "Epoch 3/3\n",
            "60000/60000 [==============================] - 57s 953us/sample - loss: 0.2095 - acc: 0.9226\n"
          ],
          "name": "stdout"
        },
        {
          "output_type": "execute_result",
          "data": {
            "text/plain": [
              "<tensorflow.python.keras.callbacks.History at 0x7f8b17a13cc0>"
            ]
          },
          "metadata": {
            "tags": []
          },
          "execution_count": 16
        }
      ]
    },
    {
      "cell_type": "code",
      "metadata": {
        "id": "SeIzAqAJJlZu",
        "colab_type": "code",
        "colab": {
          "base_uri": "https://localhost:8080/",
          "height": 70
        },
        "outputId": "295354c0-f1f4-4286-c2c2-e3995cdc137c"
      },
      "source": [
        "val_loss, val_acc = cnn_mod.evaluate(test_x, test_y)\n",
        "print(val_loss)\n",
        "print(val_acc)"
      ],
      "execution_count": 17,
      "outputs": [
        {
          "output_type": "stream",
          "text": [
            "10000/10000 [==============================] - 3s 268us/sample - loss: 0.2638 - acc: 0.9051\n",
            "0.26381180678009986\n",
            "0.9051\n"
          ],
          "name": "stdout"
        }
      ]
    },
    {
      "cell_type": "code",
      "metadata": {
        "id": "2JO6llErLsZ8",
        "colab_type": "code",
        "colab": {}
      },
      "source": [
        "## QUITE AN IMPROVEMENT:\n",
        "## FROM 0.79 to 0.9051"
      ],
      "execution_count": 0,
      "outputs": []
    }
  ]
}